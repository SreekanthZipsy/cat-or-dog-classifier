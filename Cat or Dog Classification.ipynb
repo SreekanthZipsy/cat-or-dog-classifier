{
 "cells": [
  {
   "cell_type": "code",
   "execution_count": 1,
   "metadata": {},
   "outputs": [
    {
     "name": "stderr",
     "output_type": "stream",
     "text": [
      "Using TensorFlow backend.\n"
     ]
    }
   ],
   "source": [
    "# Importing the Keras libraries and Packages.\n",
    "from keras.models import Sequential\n",
    "from keras.layers import Conv2D\n",
    "from keras.layers import MaxPooling2D\n",
    "from keras.layers import Flatten\n",
    "from keras.layers import Dense\n",
    "from keras.layers import Dropout"
   ]
  },
  {
   "cell_type": "code",
   "execution_count": 2,
   "metadata": {},
   "outputs": [],
   "source": [
    "# Initializing the CNN\n",
    "\n",
    "classifer = Sequential()"
   ]
  },
  {
   "cell_type": "code",
   "execution_count": 3,
   "metadata": {},
   "outputs": [],
   "source": [
    "# Convolution Layer\n",
    "\n",
    "classifer.add(Conv2D(32,kernel_size=(3, 3), input_shape = (64, 64, 3), activation='relu'))"
   ]
  },
  {
   "cell_type": "code",
   "execution_count": 4,
   "metadata": {},
   "outputs": [],
   "source": [
    "# Pooling\n",
    "\n",
    "classifer.add(MaxPooling2D(pool_size=(2,2)))\n",
    "classifer.add(Dropout(0.2))"
   ]
  },
  {
   "cell_type": "code",
   "execution_count": 5,
   "metadata": {},
   "outputs": [],
   "source": [
    "# Adding another layer (Second) to increase Test accuracy\n",
    "\n",
    "classifer.add(Conv2D(32,kernel_size=(3, 3), activation='relu'))\n",
    "classifer.add(MaxPooling2D(pool_size=(2,2)))  \n",
    "classifer.add(Dropout(0.2))"
   ]
  },
  {
   "cell_type": "code",
   "execution_count": 6,
   "metadata": {},
   "outputs": [],
   "source": [
    "# Adding another layer (Third) to increase Test accuracy & decrease the difference between test & train accuracy\n",
    "\n",
    "classifer.add(Conv2D(64,kernel_size=(3, 3), activation='relu'))\n",
    "classifer.add(MaxPooling2D(pool_size=(2,2)))  \n",
    "classifer.add(Dropout(0.2))"
   ]
  },
  {
   "cell_type": "code",
   "execution_count": 7,
   "metadata": {},
   "outputs": [],
   "source": [
    "# Flattening \n",
    "\n",
    "classifer.add(Flatten())"
   ]
  },
  {
   "cell_type": "code",
   "execution_count": 8,
   "metadata": {},
   "outputs": [],
   "source": [
    "# Full Connected Layer (Hidden)\n",
    "\n",
    "classifer.add(Dense(units=128, activation='relu'))\n",
    "classifer.add(Dropout(0.2))\n",
    "classifer.add(Dense(units=64, activation='relu'))\n",
    "classifer.add(Dropout(0.2))\n",
    "classifer.add(Dense(units=32, activation='relu'))\n",
    "classifer.add(Dropout(0.2))\n",
    "\n",
    "# (Output Layer)\n",
    "classifer.add(Dense(units=1, activation='sigmoid'))"
   ]
  },
  {
   "cell_type": "code",
   "execution_count": 9,
   "metadata": {},
   "outputs": [],
   "source": [
    "# Compiling the CNN\n",
    "\n",
    "classifer.compile(optimizer='adam', loss='binary_crossentropy', metrics=['accuracy'])"
   ]
  },
  {
   "cell_type": "code",
   "execution_count": 10,
   "metadata": {},
   "outputs": [],
   "source": [
    "# To free the Memory to utilize GPU (ONLY FOR ME)\n",
    "\n",
    "import tensorflow as tf\n",
    "from keras.backend.tensorflow_backend import set_session\n",
    "config = tf.ConfigProto()\n",
    "config.gpu_options.allow_growth = True  # dynamically grow the memory used on the GPU\n",
    "config.log_device_placement = True  # to log device placement (on which device the operation ran)\n",
    "                                    # (nothing gets printed in Jupyter, only if you run it standalone)\n",
    "sess = tf.Session(config=config)\n",
    "set_session(sess)  # set this TensorFlow session as the default session for Keras"
   ]
  },
  {
   "cell_type": "code",
   "execution_count": 11,
   "metadata": {},
   "outputs": [
    {
     "name": "stdout",
     "output_type": "stream",
     "text": [
      "Found 8000 images belonging to 2 classes.\n",
      "Found 2000 images belonging to 2 classes.\n",
      "Epoch 1/10\n",
      "8000/8000 [==============================] - 1389s 174ms/step - loss: 0.4720 - acc: 0.7631 - val_loss: 0.4105 - val_acc: 0.8075\n",
      "Epoch 2/10\n",
      "8000/8000 [==============================] - 1398s 175ms/step - loss: 0.3024 - acc: 0.8693 - val_loss: 0.3909 - val_acc: 0.8465\n",
      "Epoch 3/10\n",
      "8000/8000 [==============================] - 1397s 175ms/step - loss: 0.2282 - acc: 0.9051 - val_loss: 0.4676 - val_acc: 0.8380\n",
      "Epoch 4/10\n",
      "8000/8000 [==============================] - 1390s 174ms/step - loss: 0.1824 - acc: 0.9275 - val_loss: 0.4325 - val_acc: 0.8540\n",
      "Epoch 5/10\n",
      "8000/8000 [==============================] - 1415s 177ms/step - loss: 0.1533 - acc: 0.9397 - val_loss: 0.4658 - val_acc: 0.8410\n",
      "Epoch 6/10\n",
      "8000/8000 [==============================] - 1416s 177ms/step - loss: 0.1352 - acc: 0.9481 - val_loss: 0.4520 - val_acc: 0.8440\n",
      "Epoch 7/10\n",
      "8000/8000 [==============================] - 1311s 164ms/step - loss: 0.1196 - acc: 0.9542 - val_loss: 0.4870 - val_acc: 0.8395\n",
      "Epoch 8/10\n",
      "8000/8000 [==============================] - 1280s 160ms/step - loss: 0.1101 - acc: 0.9587 - val_loss: 0.5251 - val_acc: 0.8515\n",
      "Epoch 9/10\n",
      "8000/8000 [==============================] - 4843s 605ms/step - loss: 0.1013 - acc: 0.9623 - val_loss: 0.5013 - val_acc: 0.8475\n",
      "Epoch 10/10\n",
      "8000/8000 [==============================] - 9755s 1s/step - loss: 0.0953 - acc: 0.9652 - val_loss: 0.5006 - val_acc: 0.8440\n"
     ]
    },
    {
     "data": {
      "text/plain": [
       "<keras.callbacks.History at 0x19ff036fd30>"
      ]
     },
     "execution_count": 11,
     "metadata": {},
     "output_type": "execute_result"
    }
   ],
   "source": [
    "# Fitting the CNN to the images\n",
    "\n",
    "from keras.preprocessing.image import ImageDataGenerator\n",
    "\n",
    "train_datagen = ImageDataGenerator(\n",
    "        rescale=1./255,\n",
    "        shear_range=0.2,\n",
    "        zoom_range=0.2,\n",
    "        horizontal_flip=True)\n",
    "\n",
    "test_datagen = ImageDataGenerator(rescale=1./255)\n",
    "\n",
    "training_set = train_datagen.flow_from_directory('dataset/training_set',\n",
    "                                                target_size=(64, 64),\n",
    "                                                batch_size=32,\n",
    "                                                class_mode='binary')\n",
    "\n",
    "test_set = test_datagen.flow_from_directory('dataset/test_set',\n",
    "                                                        target_size=(64, 64),\n",
    "                                                        batch_size=32,\n",
    "                                                        class_mode='binary')\n",
    "\n",
    "classifer.fit_generator(training_set,\n",
    "                        steps_per_epoch=8000,\n",
    "                        epochs=10,\n",
    "                        validation_data=test_set,\n",
    "                        validation_steps=2000)"
   ]
  },
  {
   "cell_type": "markdown",
   "metadata": {},
   "source": [
    "## Now testing the model by feeding a random pics of cat & dog."
   ]
  },
  {
   "cell_type": "code",
   "execution_count": 12,
   "metadata": {},
   "outputs": [],
   "source": [
    "## Now testing the model by feeding a random pics of cat & dog.\n",
    "import numpy as np\n",
    "from keras.preprocessing import image"
   ]
  },
  {
   "cell_type": "code",
   "execution_count": 20,
   "metadata": {},
   "outputs": [],
   "source": [
    "test_image = image.load_img('dataset/single_prediction/cat_or_dog_1.jpg', target_size=(64,64))"
   ]
  },
  {
   "cell_type": "code",
   "execution_count": 21,
   "metadata": {},
   "outputs": [
    {
     "data": {
      "text/plain": [
       "(64, 64, 3)"
      ]
     },
     "execution_count": 21,
     "metadata": {},
     "output_type": "execute_result"
    }
   ],
   "source": [
    "## converting image to array\n",
    "\n",
    "test_image = image.img_to_array(test_image)\n",
    "test_image.shape"
   ]
  },
  {
   "cell_type": "code",
   "execution_count": 22,
   "metadata": {},
   "outputs": [
    {
     "data": {
      "text/plain": [
       "(1, 64, 64, 3)"
      ]
     },
     "execution_count": 22,
     "metadata": {},
     "output_type": "execute_result"
    }
   ],
   "source": [
    "# predict methods expcets 4 dimensions, we should feed in batches\n",
    "\n",
    "test_image = np.expand_dims(test_image, axis=0)\n",
    "test_image.shape"
   ]
  },
  {
   "cell_type": "code",
   "execution_count": 23,
   "metadata": {},
   "outputs": [
    {
     "data": {
      "text/plain": [
       "array([[1.]], dtype=float32)"
      ]
     },
     "execution_count": 23,
     "metadata": {},
     "output_type": "execute_result"
    }
   ],
   "source": [
    "result = classifer.predict(test_image)\n",
    "result"
   ]
  },
  {
   "cell_type": "code",
   "execution_count": 24,
   "metadata": {},
   "outputs": [
    {
     "data": {
      "text/plain": [
       "{'cats': 0, 'dogs': 1}"
      ]
     },
     "execution_count": 24,
     "metadata": {},
     "output_type": "execute_result"
    }
   ],
   "source": [
    "training_set.class_indices"
   ]
  },
  {
   "cell_type": "code",
   "execution_count": 25,
   "metadata": {},
   "outputs": [],
   "source": [
    "if result[0][0]==1:\n",
    "    prediction = 'dog'\n",
    "else:\n",
    "    prediction = 'cat'"
   ]
  },
  {
   "cell_type": "code",
   "execution_count": 26,
   "metadata": {},
   "outputs": [
    {
     "data": {
      "text/plain": [
       "'dog'"
      ]
     },
     "execution_count": 26,
     "metadata": {},
     "output_type": "execute_result"
    }
   ],
   "source": [
    "prediction"
   ]
  },
  {
   "cell_type": "code",
   "execution_count": null,
   "metadata": {},
   "outputs": [],
   "source": []
  }
 ],
 "metadata": {
  "kernelspec": {
   "display_name": "Python 3",
   "language": "python",
   "name": "python3"
  },
  "language_info": {
   "codemirror_mode": {
    "name": "ipython",
    "version": 3
   },
   "file_extension": ".py",
   "mimetype": "text/x-python",
   "name": "python",
   "nbconvert_exporter": "python",
   "pygments_lexer": "ipython3",
   "version": "3.6.6"
  }
 },
 "nbformat": 4,
 "nbformat_minor": 2
}
